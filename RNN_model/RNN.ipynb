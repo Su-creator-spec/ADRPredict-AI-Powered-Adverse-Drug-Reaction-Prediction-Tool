{
  "nbformat": 4,
  "nbformat_minor": 0,
  "metadata": {
    "colab": {
      "provenance": [],
      "gpuType": "T4"
    },
    "kernelspec": {
      "name": "python3",
      "display_name": "Python 3"
    },
    "language_info": {
      "name": "python"
    },
    "accelerator": "GPU"
  },
  "cells": [
    {
      "cell_type": "code",
      "source": [
        "import pandas as pd\n",
        "import numpy as np\n",
        "import matplotlib.pyplot as plt\n",
        "from sklearn.model_selection import train_test_split\n",
        "from sklearn.preprocessing import LabelEncoder, StandardScaler\n",
        "from tensorflow.keras.models import Sequential, load_model\n",
        "from tensorflow.keras.layers import Dense, LSTM\n",
        "from tensorflow.keras.utils import to_categorical\n",
        "# Load dataset\n",
        "df = pd.read_csv('/content/drugs_side_effects_drugs_com.csv')"
      ],
      "metadata": {
        "id": "5MxJf0_zmF_i"
      },
      "execution_count": 44,
      "outputs": []
    },
    {
      "cell_type": "code",
      "source": [
        "df.head()"
      ],
      "metadata": {
        "colab": {
          "base_uri": "https://localhost:8080/",
          "height": 513
        },
        "id": "yV-otJRrmMES",
        "outputId": "c7c55ea5-8471-4e5b-ebd9-0206d9684394"
      },
      "execution_count": 45,
      "outputs": [
        {
          "output_type": "execute_result",
          "data": {
            "text/plain": [
              "        drug_name medical_condition  \\\n",
              "0     doxycycline              Acne   \n",
              "1  spironolactone              Acne   \n",
              "2     minocycline              Acne   \n",
              "3        Accutane              Acne   \n",
              "4     clindamycin              Acne   \n",
              "\n",
              "                                        side_effects         generic_name  \\\n",
              "0  (hives, difficult breathing, swelling in your ...          doxycycline   \n",
              "1  hives ; difficulty breathing; swelling of your...       spironolactone   \n",
              "2  skin rash, fever, swollen glands, flu-like sym...          minocycline   \n",
              "3  problems with your vision or hearing; muscle o...  isotretinoin (oral)   \n",
              "4  hives ; difficult breathing; swelling of your ...  clindamycin topical   \n",
              "\n",
              "                                        drug_classes  \\\n",
              "0         Miscellaneous antimalarials, Tetracyclines   \n",
              "1  Aldosterone receptor antagonists, Potassium-sp...   \n",
              "2                                      Tetracyclines   \n",
              "3  Miscellaneous antineoplastics, Miscellaneous u...   \n",
              "4       Topical acne agents, Vaginal anti-infectives   \n",
              "\n",
              "                                         brand_names activity rx_otc  \\\n",
              "0  Acticlate, Adoxa CK, Adoxa Pak, Adoxa TT, Alod...      87%     Rx   \n",
              "1                                Aldactone, CaroSpir      82%     Rx   \n",
              "2  Dynacin, Minocin, Minolira, Solodyn, Ximino, V...      48%     Rx   \n",
              "3                                                NaN      41%     Rx   \n",
              "4  Cleocin T, Clindacin ETZ, Clindacin P, Clindag...      39%     Rx   \n",
              "\n",
              "  pregnancy_category csa alcohol  \\\n",
              "0                  D   N       X   \n",
              "1                  C   N       X   \n",
              "2                  D   N     NaN   \n",
              "3                  X   N       X   \n",
              "4                  B   N     NaN   \n",
              "\n",
              "                                       related_drugs  \\\n",
              "0  amoxicillin: https://www.drugs.com/amoxicillin...   \n",
              "1  amlodipine: https://www.drugs.com/amlodipine.h...   \n",
              "2  amoxicillin: https://www.drugs.com/amoxicillin...   \n",
              "3  doxycycline: https://www.drugs.com/doxycycline...   \n",
              "4  doxycycline: https://www.drugs.com/doxycycline...   \n",
              "\n",
              "                       medical_condition_description  rating  no_of_reviews  \\\n",
              "0  Acne Other names: Acne Vulgaris; Blackheads; B...     6.8          760.0   \n",
              "1  Acne Other names: Acne Vulgaris; Blackheads; B...     7.2          449.0   \n",
              "2  Acne Other names: Acne Vulgaris; Blackheads; B...     5.7          482.0   \n",
              "3  Acne Other names: Acne Vulgaris; Blackheads; B...     7.9          623.0   \n",
              "4  Acne Other names: Acne Vulgaris; Blackheads; B...     7.4          146.0   \n",
              "\n",
              "                                           drug_link  \\\n",
              "0             https://www.drugs.com/doxycycline.html   \n",
              "1          https://www.drugs.com/spironolactone.html   \n",
              "2             https://www.drugs.com/minocycline.html   \n",
              "3                https://www.drugs.com/accutane.html   \n",
              "4  https://www.drugs.com/mtm/clindamycin-topical....   \n",
              "\n",
              "                       medical_condition_url  \n",
              "0  https://www.drugs.com/condition/acne.html  \n",
              "1  https://www.drugs.com/condition/acne.html  \n",
              "2  https://www.drugs.com/condition/acne.html  \n",
              "3  https://www.drugs.com/condition/acne.html  \n",
              "4  https://www.drugs.com/condition/acne.html  "
            ],
            "text/html": [
              "\n",
              "  <div id=\"df-294be57b-91ba-475e-b2d2-7c15ef1711bc\" class=\"colab-df-container\">\n",
              "    <div>\n",
              "<style scoped>\n",
              "    .dataframe tbody tr th:only-of-type {\n",
              "        vertical-align: middle;\n",
              "    }\n",
              "\n",
              "    .dataframe tbody tr th {\n",
              "        vertical-align: top;\n",
              "    }\n",
              "\n",
              "    .dataframe thead th {\n",
              "        text-align: right;\n",
              "    }\n",
              "</style>\n",
              "<table border=\"1\" class=\"dataframe\">\n",
              "  <thead>\n",
              "    <tr style=\"text-align: right;\">\n",
              "      <th></th>\n",
              "      <th>drug_name</th>\n",
              "      <th>medical_condition</th>\n",
              "      <th>side_effects</th>\n",
              "      <th>generic_name</th>\n",
              "      <th>drug_classes</th>\n",
              "      <th>brand_names</th>\n",
              "      <th>activity</th>\n",
              "      <th>rx_otc</th>\n",
              "      <th>pregnancy_category</th>\n",
              "      <th>csa</th>\n",
              "      <th>alcohol</th>\n",
              "      <th>related_drugs</th>\n",
              "      <th>medical_condition_description</th>\n",
              "      <th>rating</th>\n",
              "      <th>no_of_reviews</th>\n",
              "      <th>drug_link</th>\n",
              "      <th>medical_condition_url</th>\n",
              "    </tr>\n",
              "  </thead>\n",
              "  <tbody>\n",
              "    <tr>\n",
              "      <th>0</th>\n",
              "      <td>doxycycline</td>\n",
              "      <td>Acne</td>\n",
              "      <td>(hives, difficult breathing, swelling in your ...</td>\n",
              "      <td>doxycycline</td>\n",
              "      <td>Miscellaneous antimalarials, Tetracyclines</td>\n",
              "      <td>Acticlate, Adoxa CK, Adoxa Pak, Adoxa TT, Alod...</td>\n",
              "      <td>87%</td>\n",
              "      <td>Rx</td>\n",
              "      <td>D</td>\n",
              "      <td>N</td>\n",
              "      <td>X</td>\n",
              "      <td>amoxicillin: https://www.drugs.com/amoxicillin...</td>\n",
              "      <td>Acne Other names: Acne Vulgaris; Blackheads; B...</td>\n",
              "      <td>6.8</td>\n",
              "      <td>760.0</td>\n",
              "      <td>https://www.drugs.com/doxycycline.html</td>\n",
              "      <td>https://www.drugs.com/condition/acne.html</td>\n",
              "    </tr>\n",
              "    <tr>\n",
              "      <th>1</th>\n",
              "      <td>spironolactone</td>\n",
              "      <td>Acne</td>\n",
              "      <td>hives ; difficulty breathing; swelling of your...</td>\n",
              "      <td>spironolactone</td>\n",
              "      <td>Aldosterone receptor antagonists, Potassium-sp...</td>\n",
              "      <td>Aldactone, CaroSpir</td>\n",
              "      <td>82%</td>\n",
              "      <td>Rx</td>\n",
              "      <td>C</td>\n",
              "      <td>N</td>\n",
              "      <td>X</td>\n",
              "      <td>amlodipine: https://www.drugs.com/amlodipine.h...</td>\n",
              "      <td>Acne Other names: Acne Vulgaris; Blackheads; B...</td>\n",
              "      <td>7.2</td>\n",
              "      <td>449.0</td>\n",
              "      <td>https://www.drugs.com/spironolactone.html</td>\n",
              "      <td>https://www.drugs.com/condition/acne.html</td>\n",
              "    </tr>\n",
              "    <tr>\n",
              "      <th>2</th>\n",
              "      <td>minocycline</td>\n",
              "      <td>Acne</td>\n",
              "      <td>skin rash, fever, swollen glands, flu-like sym...</td>\n",
              "      <td>minocycline</td>\n",
              "      <td>Tetracyclines</td>\n",
              "      <td>Dynacin, Minocin, Minolira, Solodyn, Ximino, V...</td>\n",
              "      <td>48%</td>\n",
              "      <td>Rx</td>\n",
              "      <td>D</td>\n",
              "      <td>N</td>\n",
              "      <td>NaN</td>\n",
              "      <td>amoxicillin: https://www.drugs.com/amoxicillin...</td>\n",
              "      <td>Acne Other names: Acne Vulgaris; Blackheads; B...</td>\n",
              "      <td>5.7</td>\n",
              "      <td>482.0</td>\n",
              "      <td>https://www.drugs.com/minocycline.html</td>\n",
              "      <td>https://www.drugs.com/condition/acne.html</td>\n",
              "    </tr>\n",
              "    <tr>\n",
              "      <th>3</th>\n",
              "      <td>Accutane</td>\n",
              "      <td>Acne</td>\n",
              "      <td>problems with your vision or hearing; muscle o...</td>\n",
              "      <td>isotretinoin (oral)</td>\n",
              "      <td>Miscellaneous antineoplastics, Miscellaneous u...</td>\n",
              "      <td>NaN</td>\n",
              "      <td>41%</td>\n",
              "      <td>Rx</td>\n",
              "      <td>X</td>\n",
              "      <td>N</td>\n",
              "      <td>X</td>\n",
              "      <td>doxycycline: https://www.drugs.com/doxycycline...</td>\n",
              "      <td>Acne Other names: Acne Vulgaris; Blackheads; B...</td>\n",
              "      <td>7.9</td>\n",
              "      <td>623.0</td>\n",
              "      <td>https://www.drugs.com/accutane.html</td>\n",
              "      <td>https://www.drugs.com/condition/acne.html</td>\n",
              "    </tr>\n",
              "    <tr>\n",
              "      <th>4</th>\n",
              "      <td>clindamycin</td>\n",
              "      <td>Acne</td>\n",
              "      <td>hives ; difficult breathing; swelling of your ...</td>\n",
              "      <td>clindamycin topical</td>\n",
              "      <td>Topical acne agents, Vaginal anti-infectives</td>\n",
              "      <td>Cleocin T, Clindacin ETZ, Clindacin P, Clindag...</td>\n",
              "      <td>39%</td>\n",
              "      <td>Rx</td>\n",
              "      <td>B</td>\n",
              "      <td>N</td>\n",
              "      <td>NaN</td>\n",
              "      <td>doxycycline: https://www.drugs.com/doxycycline...</td>\n",
              "      <td>Acne Other names: Acne Vulgaris; Blackheads; B...</td>\n",
              "      <td>7.4</td>\n",
              "      <td>146.0</td>\n",
              "      <td>https://www.drugs.com/mtm/clindamycin-topical....</td>\n",
              "      <td>https://www.drugs.com/condition/acne.html</td>\n",
              "    </tr>\n",
              "  </tbody>\n",
              "</table>\n",
              "</div>\n",
              "    <div class=\"colab-df-buttons\">\n",
              "\n",
              "  <div class=\"colab-df-container\">\n",
              "    <button class=\"colab-df-convert\" onclick=\"convertToInteractive('df-294be57b-91ba-475e-b2d2-7c15ef1711bc')\"\n",
              "            title=\"Convert this dataframe to an interactive table.\"\n",
              "            style=\"display:none;\">\n",
              "\n",
              "  <svg xmlns=\"http://www.w3.org/2000/svg\" height=\"24px\" viewBox=\"0 -960 960 960\">\n",
              "    <path d=\"M120-120v-720h720v720H120Zm60-500h600v-160H180v160Zm220 220h160v-160H400v160Zm0 220h160v-160H400v160ZM180-400h160v-160H180v160Zm440 0h160v-160H620v160ZM180-180h160v-160H180v160Zm440 0h160v-160H620v160Z\"/>\n",
              "  </svg>\n",
              "    </button>\n",
              "\n",
              "  <style>\n",
              "    .colab-df-container {\n",
              "      display:flex;\n",
              "      gap: 12px;\n",
              "    }\n",
              "\n",
              "    .colab-df-convert {\n",
              "      background-color: #E8F0FE;\n",
              "      border: none;\n",
              "      border-radius: 50%;\n",
              "      cursor: pointer;\n",
              "      display: none;\n",
              "      fill: #1967D2;\n",
              "      height: 32px;\n",
              "      padding: 0 0 0 0;\n",
              "      width: 32px;\n",
              "    }\n",
              "\n",
              "    .colab-df-convert:hover {\n",
              "      background-color: #E2EBFA;\n",
              "      box-shadow: 0px 1px 2px rgba(60, 64, 67, 0.3), 0px 1px 3px 1px rgba(60, 64, 67, 0.15);\n",
              "      fill: #174EA6;\n",
              "    }\n",
              "\n",
              "    .colab-df-buttons div {\n",
              "      margin-bottom: 4px;\n",
              "    }\n",
              "\n",
              "    [theme=dark] .colab-df-convert {\n",
              "      background-color: #3B4455;\n",
              "      fill: #D2E3FC;\n",
              "    }\n",
              "\n",
              "    [theme=dark] .colab-df-convert:hover {\n",
              "      background-color: #434B5C;\n",
              "      box-shadow: 0px 1px 3px 1px rgba(0, 0, 0, 0.15);\n",
              "      filter: drop-shadow(0px 1px 2px rgba(0, 0, 0, 0.3));\n",
              "      fill: #FFFFFF;\n",
              "    }\n",
              "  </style>\n",
              "\n",
              "    <script>\n",
              "      const buttonEl =\n",
              "        document.querySelector('#df-294be57b-91ba-475e-b2d2-7c15ef1711bc button.colab-df-convert');\n",
              "      buttonEl.style.display =\n",
              "        google.colab.kernel.accessAllowed ? 'block' : 'none';\n",
              "\n",
              "      async function convertToInteractive(key) {\n",
              "        const element = document.querySelector('#df-294be57b-91ba-475e-b2d2-7c15ef1711bc');\n",
              "        const dataTable =\n",
              "          await google.colab.kernel.invokeFunction('convertToInteractive',\n",
              "                                                    [key], {});\n",
              "        if (!dataTable) return;\n",
              "\n",
              "        const docLinkHtml = 'Like what you see? Visit the ' +\n",
              "          '<a target=\"_blank\" href=https://colab.research.google.com/notebooks/data_table.ipynb>data table notebook</a>'\n",
              "          + ' to learn more about interactive tables.';\n",
              "        element.innerHTML = '';\n",
              "        dataTable['output_type'] = 'display_data';\n",
              "        await google.colab.output.renderOutput(dataTable, element);\n",
              "        const docLink = document.createElement('div');\n",
              "        docLink.innerHTML = docLinkHtml;\n",
              "        element.appendChild(docLink);\n",
              "      }\n",
              "    </script>\n",
              "  </div>\n",
              "\n",
              "\n",
              "<div id=\"df-a5410d06-be0c-4ba8-bd04-edfdc73e77d4\">\n",
              "  <button class=\"colab-df-quickchart\" onclick=\"quickchart('df-a5410d06-be0c-4ba8-bd04-edfdc73e77d4')\"\n",
              "            title=\"Suggest charts\"\n",
              "            style=\"display:none;\">\n",
              "\n",
              "<svg xmlns=\"http://www.w3.org/2000/svg\" height=\"24px\"viewBox=\"0 0 24 24\"\n",
              "     width=\"24px\">\n",
              "    <g>\n",
              "        <path d=\"M19 3H5c-1.1 0-2 .9-2 2v14c0 1.1.9 2 2 2h14c1.1 0 2-.9 2-2V5c0-1.1-.9-2-2-2zM9 17H7v-7h2v7zm4 0h-2V7h2v10zm4 0h-2v-4h2v4z\"/>\n",
              "    </g>\n",
              "</svg>\n",
              "  </button>\n",
              "\n",
              "<style>\n",
              "  .colab-df-quickchart {\n",
              "      --bg-color: #E8F0FE;\n",
              "      --fill-color: #1967D2;\n",
              "      --hover-bg-color: #E2EBFA;\n",
              "      --hover-fill-color: #174EA6;\n",
              "      --disabled-fill-color: #AAA;\n",
              "      --disabled-bg-color: #DDD;\n",
              "  }\n",
              "\n",
              "  [theme=dark] .colab-df-quickchart {\n",
              "      --bg-color: #3B4455;\n",
              "      --fill-color: #D2E3FC;\n",
              "      --hover-bg-color: #434B5C;\n",
              "      --hover-fill-color: #FFFFFF;\n",
              "      --disabled-bg-color: #3B4455;\n",
              "      --disabled-fill-color: #666;\n",
              "  }\n",
              "\n",
              "  .colab-df-quickchart {\n",
              "    background-color: var(--bg-color);\n",
              "    border: none;\n",
              "    border-radius: 50%;\n",
              "    cursor: pointer;\n",
              "    display: none;\n",
              "    fill: var(--fill-color);\n",
              "    height: 32px;\n",
              "    padding: 0;\n",
              "    width: 32px;\n",
              "  }\n",
              "\n",
              "  .colab-df-quickchart:hover {\n",
              "    background-color: var(--hover-bg-color);\n",
              "    box-shadow: 0 1px 2px rgba(60, 64, 67, 0.3), 0 1px 3px 1px rgba(60, 64, 67, 0.15);\n",
              "    fill: var(--button-hover-fill-color);\n",
              "  }\n",
              "\n",
              "  .colab-df-quickchart-complete:disabled,\n",
              "  .colab-df-quickchart-complete:disabled:hover {\n",
              "    background-color: var(--disabled-bg-color);\n",
              "    fill: var(--disabled-fill-color);\n",
              "    box-shadow: none;\n",
              "  }\n",
              "\n",
              "  .colab-df-spinner {\n",
              "    border: 2px solid var(--fill-color);\n",
              "    border-color: transparent;\n",
              "    border-bottom-color: var(--fill-color);\n",
              "    animation:\n",
              "      spin 1s steps(1) infinite;\n",
              "  }\n",
              "\n",
              "  @keyframes spin {\n",
              "    0% {\n",
              "      border-color: transparent;\n",
              "      border-bottom-color: var(--fill-color);\n",
              "      border-left-color: var(--fill-color);\n",
              "    }\n",
              "    20% {\n",
              "      border-color: transparent;\n",
              "      border-left-color: var(--fill-color);\n",
              "      border-top-color: var(--fill-color);\n",
              "    }\n",
              "    30% {\n",
              "      border-color: transparent;\n",
              "      border-left-color: var(--fill-color);\n",
              "      border-top-color: var(--fill-color);\n",
              "      border-right-color: var(--fill-color);\n",
              "    }\n",
              "    40% {\n",
              "      border-color: transparent;\n",
              "      border-right-color: var(--fill-color);\n",
              "      border-top-color: var(--fill-color);\n",
              "    }\n",
              "    60% {\n",
              "      border-color: transparent;\n",
              "      border-right-color: var(--fill-color);\n",
              "    }\n",
              "    80% {\n",
              "      border-color: transparent;\n",
              "      border-right-color: var(--fill-color);\n",
              "      border-bottom-color: var(--fill-color);\n",
              "    }\n",
              "    90% {\n",
              "      border-color: transparent;\n",
              "      border-bottom-color: var(--fill-color);\n",
              "    }\n",
              "  }\n",
              "</style>\n",
              "\n",
              "  <script>\n",
              "    async function quickchart(key) {\n",
              "      const quickchartButtonEl =\n",
              "        document.querySelector('#' + key + ' button');\n",
              "      quickchartButtonEl.disabled = true;  // To prevent multiple clicks.\n",
              "      quickchartButtonEl.classList.add('colab-df-spinner');\n",
              "      try {\n",
              "        const charts = await google.colab.kernel.invokeFunction(\n",
              "            'suggestCharts', [key], {});\n",
              "      } catch (error) {\n",
              "        console.error('Error during call to suggestCharts:', error);\n",
              "      }\n",
              "      quickchartButtonEl.classList.remove('colab-df-spinner');\n",
              "      quickchartButtonEl.classList.add('colab-df-quickchart-complete');\n",
              "    }\n",
              "    (() => {\n",
              "      let quickchartButtonEl =\n",
              "        document.querySelector('#df-a5410d06-be0c-4ba8-bd04-edfdc73e77d4 button');\n",
              "      quickchartButtonEl.style.display =\n",
              "        google.colab.kernel.accessAllowed ? 'block' : 'none';\n",
              "    })();\n",
              "  </script>\n",
              "</div>\n",
              "\n",
              "    </div>\n",
              "  </div>\n"
            ],
            "application/vnd.google.colaboratory.intrinsic+json": {
              "type": "dataframe",
              "variable_name": "df",
              "summary": "{\n  \"name\": \"df\",\n  \"rows\": 2931,\n  \"fields\": [\n    {\n      \"column\": \"drug_name\",\n      \"properties\": {\n        \"dtype\": \"string\",\n        \"num_unique_values\": 2912,\n        \"samples\": [\n          \"Liquimat Light\",\n          \"Biaxin XL\",\n          \"plazomicin\"\n        ],\n        \"semantic_type\": \"\",\n        \"description\": \"\"\n      }\n    },\n    {\n      \"column\": \"medical_condition\",\n      \"properties\": {\n        \"dtype\": \"category\",\n        \"num_unique_values\": 47,\n        \"samples\": [\n          \"Herpes\",\n          \"Psoriasis\",\n          \"Hayfever\"\n        ],\n        \"semantic_type\": \"\",\n        \"description\": \"\"\n      }\n    },\n    {\n      \"column\": \"side_effects\",\n      \"properties\": {\n        \"dtype\": \"string\",\n        \"num_unique_values\": 2759,\n        \"samples\": [\n          \"hives ; fever, tiredness, body aches, not feeling well; sores or blisters in your mouth; red or puffy eyes; difficult breathing; swelling of your face, lips, tongue, or throat. Seek medical treatment if you have a serious drug reaction that can affect many parts of your body. Symptoms may include: skin rash, fever, swollen glands, muscle aches, severe weakness, unusual bruising, or yellowing of your skin or eyes. Your cabotegravir and rilpivirine injections may be permanently discontinued if you have an allergic reaction. Some side effects may occur within a few minutes after an injection. Tell your caregiver if you feel anxious, warm, light-headed, sweaty, or have stomach pain, or numbness in your mouth. Cabotegravir and rilpivirine may cause serious side effects. Call your doctor at once if you have: unusual changes in mood or behavior; suicidal thoughts or actions; or liver problems--loss of appetite, nausea , vomiting , stomach pain (upper right side), itching, dark urine, clay-colored stools, jaundice (yellowing of the skin or eyes). Common side effects of cabotegravir and rilpivirine may include: pain, redness, swelling, itching, bruising, warmth, or a hard lump where an injection was given; fever; nausea; pain in your bones, joints or muscles; feeling tired, sleep problems; headache , dizziness ; or rash.\",\n          \"hives ; difficult breathing; swelling of your face, lips, tongue, or throat. Seek medical attention right away if you have signs of a genital infection (penis or vagina): burning, itching, odor, discharge, pain, tenderness, redness or swelling of the genital or rectal area, fever, not feeling well. These symptoms may get worse quickly. Ertugliflozin and metformin may cause serious side effects. Call your doctor at once if you have: new pain, tenderness, sores, ulcers, or infections in your legs or feet; little or no urination; lactic acidosis--unusual muscle pain, trouble breathing, stomach pain, vomiting, irregular heart rate, dizziness, feeling cold, or feeling very weak or tired; ketoacidosis (too much acid in the blood)-- nausea , vomiting, stomach pain, confusion, unusual drowsiness, or trouble breathing; dehydration symptoms--dizziness, weakness, feeling light-headed (like you might pass out); or signs of a bladder infection --pain or burning when you urinate, increased urination, blood in your urine, fever, pain in your pelvis or back. Some side effects may be more likely to occur in older adults. Common side effects of ertugliflozin and metformin may include: genital yeast infection; stomach discomfort; nausea, vomiting, diarrhea, gas; headache , weakness; or urinating more than usual.\",\n          \"hives ; difficult breathing; swelling of the face, lips, tongue, or throat. While receiving Baci-IM, your baby will be watched for the following side effects: diarrhea that is watery or bloody; urinating more than usual or more often; little or no urinating (fewer wet diapers); blood in the urine; lower back pain ; or painful urination. Common side effects include: nausea , vomiting ; mild skin rash ; or pain, burning, or swelling where the medicine was injected.\"\n        ],\n        \"semantic_type\": \"\",\n        \"description\": \"\"\n      }\n    },\n    {\n      \"column\": \"generic_name\",\n      \"properties\": {\n        \"dtype\": \"category\",\n        \"num_unique_values\": 1392,\n        \"samples\": [\n          \"famotidine and ibuprofen\",\n          \"donepezil (oral)\",\n          \"plazomicin\"\n        ],\n        \"semantic_type\": \"\",\n        \"description\": \"\"\n      }\n    },\n    {\n      \"column\": \"drug_classes\",\n      \"properties\": {\n        \"dtype\": \"category\",\n        \"num_unique_values\": 274,\n        \"samples\": [\n          \"Antiviral combinations\",\n          \"GI stimulants, Miscellaneous antiemetics\",\n          \"Antiadrenergic agents, peripherally acting\"\n        ],\n        \"semantic_type\": \"\",\n        \"description\": \"\"\n      }\n    },\n    {\n      \"column\": \"brand_names\",\n      \"properties\": {\n        \"dtype\": \"string\",\n        \"num_unique_values\": 1552,\n        \"samples\": [\n          \"Primsol, Trimpex, Proloprim\",\n          \"KlonoPIN, KlonoPIN Wafer\",\n          \"Invega\"\n        ],\n        \"semantic_type\": \"\",\n        \"description\": \"\"\n      }\n    },\n    {\n      \"column\": \"activity\",\n      \"properties\": {\n        \"dtype\": \"category\",\n        \"num_unique_values\": 93,\n        \"samples\": [\n          \"60%\",\n          \"100%\",\n          \"84%\"\n        ],\n        \"semantic_type\": \"\",\n        \"description\": \"\"\n      }\n    },\n    {\n      \"column\": \"rx_otc\",\n      \"properties\": {\n        \"dtype\": \"category\",\n        \"num_unique_values\": 3,\n        \"samples\": [\n          \"Rx\",\n          \"Rx/OTC\",\n          \"OTC\"\n        ],\n        \"semantic_type\": \"\",\n        \"description\": \"\"\n      }\n    },\n    {\n      \"column\": \"pregnancy_category\",\n      \"properties\": {\n        \"dtype\": \"category\",\n        \"num_unique_values\": 6,\n        \"samples\": [\n          \"D\",\n          \"C\",\n          \"A\"\n        ],\n        \"semantic_type\": \"\",\n        \"description\": \"\"\n      }\n    },\n    {\n      \"column\": \"csa\",\n      \"properties\": {\n        \"dtype\": \"category\",\n        \"num_unique_values\": 7,\n        \"samples\": [\n          \"N\",\n          \"2\",\n          \"5\"\n        ],\n        \"semantic_type\": \"\",\n        \"description\": \"\"\n      }\n    },\n    {\n      \"column\": \"alcohol\",\n      \"properties\": {\n        \"dtype\": \"category\",\n        \"num_unique_values\": 1,\n        \"samples\": [\n          \"X\"\n        ],\n        \"semantic_type\": \"\",\n        \"description\": \"\"\n      }\n    },\n    {\n      \"column\": \"related_drugs\",\n      \"properties\": {\n        \"dtype\": \"category\",\n        \"num_unique_values\": 535,\n        \"samples\": [\n          \"theophylline: https://www.drugs.com/mtm/theophylline.html | caffeine: https://www.drugs.com/caffeine.html | aminophylline: https://www.drugs.com/mtm/aminophylline-injection.html | Theo-24: https://www.drugs.com/mtm/theo-24.html | Elixophyllin: https://www.drugs.com/mtm/elixophyllin.html | Theo-Dur: https://www.drugs.com/cons/theo-dur.html | Vivarin: https://www.drugs.com/mtm/vivarin.html | Cafcit: https://www.drugs.com/mtm/cafcit-injection-oral-liquid.html | NoDoz: https://www.drugs.com/mtm/no-doz.html\"\n        ],\n        \"semantic_type\": \"\",\n        \"description\": \"\"\n      }\n    },\n    {\n      \"column\": \"medical_condition_description\",\n      \"properties\": {\n        \"dtype\": \"category\",\n        \"num_unique_values\": 47,\n        \"samples\": [\n          \"Herpes Simplex An infection caused by herpes viruses 1 or 2 -- which primarily affects the mouth or genital area. Drugs used for Herpes Simplex The following list of medications are in some way related to or used in the treatment of this condition. Select drug class All drug classes Topical anti-infectives (2) Miscellaneous topical agents (2) Purine nucleosides (3) Topical antivirals (3) Show Hide filters Filter Brands and Generics Brands and generics Brands Generics Include off-label drugs Include off-label drugs Approved Off-label Rx and OTC Rx and OTC Rx OTC Drug name Rating Reviews Activity &quest; Rx/OTC Preg nancy CSA Alcohol Expand current row for information about acyclovir acyclovir 8.0 94 reviews Rx B N Generic name: acyclovir systemic Brand name: Zovirax Drug class: purine nucleosides For consumers: dosage , interactions , side effects For professionals: AHFS DI Monograph , Prescribing Information Expand current row for information about valacyclovir valacyclovir 5.8 9 reviews Rx B N Generic name: valacyclovir systemic Drug class: purine nucleosides For consumers: dosage , interactions , side effects For professionals: AHFS DI Monograph , Prescribing Information Expand current row for information about Zovirax Cream Zovirax Cream 9.3 4 reviews Rx B N Generic name: acyclovir topical Drug class: topical antivirals For consumers: dosage , interactions , side effects For professionals: Prescribing Information Expand current row for information about Abreva Abreva 4.5 422 reviews OTC N N Generic name: docosanol topical Drug class: topical anti-infectives For consumers: dosage , side effects Expand current row for information about acyclovir acyclovir 8.6 14 reviews Rx B N Generic name: acyclovir topical Brand names: Zovirax Cream, Zovirax Ointment Drug class: topical antivirals For consumers: dosage , interactions , side effects For professionals: AHFS DI Monograph , Prescribing Information Expand current row for information about Zovirax Ointment Zovirax Ointment 8.7 3 reviews Rx B N Generic name: acyclovir topical Drug class: topical antivirals For consumers: dosage , interactions , side effects For professionals: Prescribing Information Expand current row for information about Zovirax Zovirax 7.4 7 reviews Rx B N Generic name: acyclovir systemic Drug class: purine nucleosides For consumers: dosage , interactions , side effects For professionals: Prescribing Information Expand current row for information about docosanol docosanol 4.6 433 reviews OTC N N Generic name: docosanol topical Brand name: Abreva Drug class: topical anti-infectives For consumers: dosage , side effects For professionals: AHFS DI Monograph Expand current row for information about Blistex Ointment Blistex Ointment 10 1 review OTC N N Generic name: allantoin / camphor / phenol topical Drug class: miscellaneous topical agents For consumers: side effects Expand current row for information about allantoin / camphor / phenol allantoin / camphor / phenol 10 1 review OTC N N Generic name: allantoin / camphor / phenol topical Brand name: Blistex Ointment Drug class: miscellaneous topical agents For consumers: side effects Frequently asked questions If you have the herpes simplex outbreaks, what dosage of lysine do you recommend? Topics under Herpes Simplex Cold Sores (18 drugs) Herpes Simplex - Congenital (2 drugs) Herpes Simplex, Mucocutaneous/Immunocompetent Host (4 drugs) Herpes Simplex, Mucocutaneous/Immunocompromised Host (6 drugs) Herpes Simplex, Suppression (5 drugs) Alternative treatments for Herpes Simplex The following products are considered to be alternative treatments or natural remedies for Herpes Simplex. Their efficacy may not have been scientifically tested to the same degree as the drugs listed in the table above. However there may be historical, cultural or anecdotal evidence linking their use to the treatment of Herpes Simplex. Lysine Learn more about Herpes Simplex Drug Treatment of HIV and AIDS Complications Care guides Herpes Simplex Care Notes Symptoms and treatments Herpes Simplex Health Guide Medicine.com guides (external) Herpes Simplex Guide Legend Rating For ratings, users were asked how effective they found the medicine while considering positive/adverse effects and ease of use (1 = not effective, 10 = most effective). Activity Activity is based on recent site visitor activity relative to other medications in the list. Rx Prescription only. OTC Over-the-counter. Rx/OTC Prescription or Over-the-counter. Off-label This medication may not be approved by the FDA for the treatment of this condition. EUA An Emergency Use Authorization (EUA) allows the FDA to authorize unapproved medical products or unapproved uses of approved medical products to be used in a declared public health emergency when there are no adequate, approved, and available alternatives. Pregnancy Category A Adequate and well-controlled studies have failed to demonstrate a risk to the fetus in the first trimester of pregnancy (and there is no evidence of risk in later trimesters). B Animal reproduction studies have failed to demonstrate a risk to the fetus and there are no adequate and well-controlled studies in pregnant women. C Animal reproduction studies have shown an adverse effect on the fetus and there are no adequate and well-controlled studies in humans, but potential benefits may warrant use in pregnant women despite potential risks. D There is positive evidence of human fetal risk based on adverse reaction data from investigational or marketing experience or studies in humans, but potential benefits may warrant use in pregnant women despite potential risks. X Studies in animals or humans have demonstrated fetal abnormalities and/or there is positive evidence of human fetal risk based on adverse reaction data from investigational or marketing experience, and the risks involved in use in pregnant women clearly outweigh potential benefits. N FDA has not classified the drug. Controlled Substances Act (CSA) Schedule M The drug has multiple schedules. The schedule may depend on the exact dosage form or strength of the medication. U CSA Schedule is unknown. N Is not subject to the Controlled Substances Act. 1 Has a high potential for abuse. Has no currently accepted medical use in treatment in the United States. There is a lack of accepted safety for use under medical supervision. 2 Has a high potential for abuse. Has a currently accepted medical use in treatment in the United States or a currently accepted medical use with severe restrictions. Abuse may lead to severe psychological or physical dependence. 3 Has a potential for abuse less than those in schedules 1 and 2. Has a currently accepted medical use in treatment in the United States. Abuse may lead to moderate or low physical dependence or high psychological dependence. 4 Has a low potential for abuse relative to those in schedule 3. It has a currently accepted medical use in treatment in the United States. Abuse may lead to limited physical dependence or psychological dependence relative to those in schedule 3. 5 Has a low potential for abuse relative to those in schedule 4. Has a currently accepted medical use in treatment in the United States. Abuse may lead to limited physical dependence or psychological dependence relative to those in schedule 4. Alcohol X Interacts with Alcohol. Browse treatment options A B C D E F G H I J K L M N O P Q R S T U V W X Y Z Further information Always consult your healthcare provider to ensure the information displayed on this page applies to your personal circumstances. Medical Disclaimer\"\n        ],\n        \"semantic_type\": \"\",\n        \"description\": \"\"\n      }\n    },\n    {\n      \"column\": \"rating\",\n      \"properties\": {\n        \"dtype\": \"number\",\n        \"std\": 2.313044210016181,\n        \"min\": 0.0,\n        \"max\": 10.0,\n        \"num_unique_values\": 86,\n        \"samples\": [\n          2.3\n        ],\n        \"semantic_type\": \"\",\n        \"description\": \"\"\n      }\n    },\n    {\n      \"column\": \"no_of_reviews\",\n      \"properties\": {\n        \"dtype\": \"number\",\n        \"std\": 184.9008470086279,\n        \"min\": 1.0,\n        \"max\": 2934.0,\n        \"num_unique_values\": 301,\n        \"samples\": [\n          612.0\n        ],\n        \"semantic_type\": \"\",\n        \"description\": \"\"\n      }\n    },\n    {\n      \"column\": \"drug_link\",\n      \"properties\": {\n        \"dtype\": \"string\",\n        \"num_unique_values\": 2931,\n        \"samples\": [\n          \"https://www.drugs.com/mtm/synjardy-xr.html\"\n        ],\n        \"semantic_type\": \"\",\n        \"description\": \"\"\n      }\n    },\n    {\n      \"column\": \"medical_condition_url\",\n      \"properties\": {\n        \"dtype\": \"category\",\n        \"num_unique_values\": 47,\n        \"samples\": [\n          \"https://www.drugs.com/condition/herpes-simplex.html\"\n        ],\n        \"semantic_type\": \"\",\n        \"description\": \"\"\n      }\n    }\n  ]\n}"
            }
          },
          "metadata": {},
          "execution_count": 45
        }
      ]
    },
    {
      "cell_type": "code",
      "source": [
        "categorical_features = ['drug_classes', 'rx_otc', 'csa', 'alcohol', 'brand_names', 'side_effects']\n",
        "target_column = 'medical_condition'"
      ],
      "metadata": {
        "id": "I5s3CCDMoTfS"
      },
      "execution_count": 46,
      "outputs": []
    },
    {
      "cell_type": "code",
      "source": [
        "df[categorical_features] = df[categorical_features].fillna('Unknown')  # Fill missing categorical values\n",
        "df[target_column] = df[target_column].fillna(df[target_column].mode()[0])  # Fill target with most frequent value\n"
      ],
      "metadata": {
        "id": "HbsSrnJ6oY-2"
      },
      "execution_count": 47,
      "outputs": []
    },
    {
      "cell_type": "code",
      "source": [
        "# Encode categorical features using one-hot encoding\n",
        "df = pd.get_dummies(df, columns=categorical_features, drop_first=True)"
      ],
      "metadata": {
        "id": "1l5stya0obV5"
      },
      "execution_count": 48,
      "outputs": []
    },
    {
      "cell_type": "code",
      "source": [
        "print(df.dtypes[df.dtypes == 'object'])"
      ],
      "metadata": {
        "colab": {
          "base_uri": "https://localhost:8080/"
        },
        "id": "fECuyq2Bqfnx",
        "outputId": "6b9a1146-0632-4b7e-d41f-9fbb613671f8"
      },
      "execution_count": 49,
      "outputs": [
        {
          "output_type": "stream",
          "name": "stdout",
          "text": [
            "drug_name                        object\n",
            "medical_condition                object\n",
            "generic_name                     object\n",
            "activity                         object\n",
            "pregnancy_category               object\n",
            "related_drugs                    object\n",
            "medical_condition_description    object\n",
            "drug_link                        object\n",
            "medical_condition_url            object\n",
            "dtype: object\n"
          ]
        }
      ]
    },
    {
      "cell_type": "code",
      "source": [
        "# Extract features and target variable\n",
        "X = df.drop(target_column, axis=1).values  # Convert to numpy array\n",
        "y = df[target_column].values  # Target column"
      ],
      "metadata": {
        "id": "7tDgLjsUofxP"
      },
      "execution_count": 50,
      "outputs": []
    },
    {
      "source": [
        "# Extract features and target variable\n",
        "X = df.drop(target_column, axis=1)  # No .values yet to keep it as a DataFrame\n",
        "\n",
        "# Convert object columns to numerical using Label Encoding\n",
        "for col in X.select_dtypes(include=['object']).columns:\n",
        "    X[col] = X[col].astype('category').cat.codes\n",
        "\n",
        "# Now convert to NumPy array\n",
        "X = X.values.astype(np.float32)\n",
        "\n",
        "y = df[target_column].values  # Target column"
      ],
      "cell_type": "code",
      "metadata": {
        "id": "ExfVW_-lquNH"
      },
      "execution_count": 51,
      "outputs": []
    },
    {
      "cell_type": "code",
      "source": [
        "# Encode target labels\n",
        "label_encoder = LabelEncoder()\n",
        "y = label_encoder.fit_transform(y)\n",
        "num_classes = len(label_encoder.classes_)\n",
        "y = to_categorical(y, num_classes=num_classes)"
      ],
      "metadata": {
        "id": "j_tivcufohYo"
      },
      "execution_count": 52,
      "outputs": []
    },
    {
      "cell_type": "code",
      "source": [
        "# Before splitting into train and test sets\n",
        "for col in df.columns:\n",
        "    if df[col].dtype == 'object':\n",
        "        print(f\"Column '{col}' has object dtype. Consider converting it.\")\n",
        "        # Try converting to numeric if possible:\n",
        "        # df[col] = pd.to_numeric(df[col], errors='coerce')  # 'coerce' will replace non-numeric with NaN\n",
        "\n",
        "# After converting, fill any NaNs:\n",
        "df = df.fillna(0)  # Or use another appropriate strategy\n",
        "\n",
        "# Then proceed with splitting, reshaping, and model training."
      ],
      "metadata": {
        "colab": {
          "base_uri": "https://localhost:8080/"
        },
        "id": "qKl5YgfCpFd_",
        "outputId": "1836d19f-a63c-4661-839e-6d9814af914a"
      },
      "execution_count": 53,
      "outputs": [
        {
          "output_type": "stream",
          "name": "stdout",
          "text": [
            "Column 'drug_name' has object dtype. Consider converting it.\n",
            "Column 'medical_condition' has object dtype. Consider converting it.\n",
            "Column 'generic_name' has object dtype. Consider converting it.\n",
            "Column 'activity' has object dtype. Consider converting it.\n",
            "Column 'pregnancy_category' has object dtype. Consider converting it.\n",
            "Column 'related_drugs' has object dtype. Consider converting it.\n",
            "Column 'medical_condition_description' has object dtype. Consider converting it.\n",
            "Column 'drug_link' has object dtype. Consider converting it.\n",
            "Column 'medical_condition_url' has object dtype. Consider converting it.\n"
          ]
        }
      ]
    },
    {
      "cell_type": "code",
      "source": [],
      "metadata": {
        "id": "vtOtsG5zqEWk"
      },
      "execution_count": 53,
      "outputs": []
    },
    {
      "cell_type": "code",
      "source": [
        "# Split data into training and testing sets\n",
        "X_train, X_test, y_train, y_test = train_test_split(X, y, test_size=0.2, random_state=42)"
      ],
      "metadata": {
        "id": "1l7s6-XAojzl"
      },
      "execution_count": 54,
      "outputs": []
    },
    {
      "cell_type": "code",
      "source": [
        "# Reshape for LSTM input\n",
        "X_train = np.expand_dims(X_train, axis=1)  # Adding a timestep dimension\n",
        "X_test = np.expand_dims(X_test, axis=1)"
      ],
      "metadata": {
        "id": "KK3gZD1VonWJ"
      },
      "execution_count": 55,
      "outputs": []
    },
    {
      "cell_type": "code",
      "source": [
        "# Define LSTM Model\n",
        "model = Sequential([\n",
        "    LSTM(128, input_shape=(X_train.shape[1], X_train.shape[2]), return_sequences=False),\n",
        "    Dense(64, activation='relu'),\n",
        "    Dense(num_classes, activation='softmax')\n",
        "])"
      ],
      "metadata": {
        "colab": {
          "base_uri": "https://localhost:8080/"
        },
        "id": "T4iL6QoyoqLp",
        "outputId": "00125dd7-f601-4485-f81b-1a572da39ef9"
      },
      "execution_count": 56,
      "outputs": [
        {
          "output_type": "stream",
          "name": "stderr",
          "text": [
            "/usr/local/lib/python3.11/dist-packages/keras/src/layers/rnn/rnn.py:200: UserWarning: Do not pass an `input_shape`/`input_dim` argument to a layer. When using Sequential models, prefer using an `Input(shape)` object as the first layer in the model instead.\n",
            "  super().__init__(**kwargs)\n"
          ]
        }
      ]
    },
    {
      "cell_type": "code",
      "source": [
        "# Compile Model\n",
        "model.compile(optimizer='adam', loss='categorical_crossentropy', metrics=['accuracy'])"
      ],
      "metadata": {
        "id": "qS_H_Af9otyY"
      },
      "execution_count": 57,
      "outputs": []
    },
    {
      "cell_type": "code",
      "source": [
        "# Train Model\n",
        "model.fit(X_train, y_train, validation_data=(X_test, y_test), epochs=10, batch_size=32)"
      ],
      "metadata": {
        "colab": {
          "base_uri": "https://localhost:8080/"
        },
        "id": "ich78sXOoxBp",
        "outputId": "3f8c7297-8e79-4094-be9a-2dde240af66b"
      },
      "execution_count": 58,
      "outputs": [
        {
          "output_type": "stream",
          "name": "stdout",
          "text": [
            "Epoch 1/10\n",
            "\u001b[1m74/74\u001b[0m \u001b[32m━━━━━━━━━━━━━━━━━━━━\u001b[0m\u001b[37m\u001b[0m \u001b[1m4s\u001b[0m 12ms/step - accuracy: 0.0163 - loss: nan - val_accuracy: 0.0221 - val_loss: nan\n",
            "Epoch 2/10\n",
            "\u001b[1m74/74\u001b[0m \u001b[32m━━━━━━━━━━━━━━━━━━━━\u001b[0m\u001b[37m\u001b[0m \u001b[1m1s\u001b[0m 10ms/step - accuracy: 0.0194 - loss: nan - val_accuracy: 0.0221 - val_loss: nan\n",
            "Epoch 3/10\n",
            "\u001b[1m74/74\u001b[0m \u001b[32m━━━━━━━━━━━━━━━━━━━━\u001b[0m\u001b[37m\u001b[0m \u001b[1m1s\u001b[0m 10ms/step - accuracy: 0.0205 - loss: nan - val_accuracy: 0.0221 - val_loss: nan\n",
            "Epoch 4/10\n",
            "\u001b[1m74/74\u001b[0m \u001b[32m━━━━━━━━━━━━━━━━━━━━\u001b[0m\u001b[37m\u001b[0m \u001b[1m1s\u001b[0m 7ms/step - accuracy: 0.0165 - loss: nan - val_accuracy: 0.0221 - val_loss: nan\n",
            "Epoch 5/10\n",
            "\u001b[1m74/74\u001b[0m \u001b[32m━━━━━━━━━━━━━━━━━━━━\u001b[0m\u001b[37m\u001b[0m \u001b[1m1s\u001b[0m 8ms/step - accuracy: 0.0160 - loss: nan - val_accuracy: 0.0221 - val_loss: nan\n",
            "Epoch 6/10\n",
            "\u001b[1m74/74\u001b[0m \u001b[32m━━━━━━━━━━━━━━━━━━━━\u001b[0m\u001b[37m\u001b[0m \u001b[1m1s\u001b[0m 7ms/step - accuracy: 0.0205 - loss: nan - val_accuracy: 0.0221 - val_loss: nan\n",
            "Epoch 7/10\n",
            "\u001b[1m74/74\u001b[0m \u001b[32m━━━━━━━━━━━━━━━━━━━━\u001b[0m\u001b[37m\u001b[0m \u001b[1m1s\u001b[0m 8ms/step - accuracy: 0.0162 - loss: nan - val_accuracy: 0.0221 - val_loss: nan\n",
            "Epoch 8/10\n",
            "\u001b[1m74/74\u001b[0m \u001b[32m━━━━━━━━━━━━━━━━━━━━\u001b[0m\u001b[37m\u001b[0m \u001b[1m1s\u001b[0m 7ms/step - accuracy: 0.0216 - loss: nan - val_accuracy: 0.0221 - val_loss: nan\n",
            "Epoch 9/10\n",
            "\u001b[1m74/74\u001b[0m \u001b[32m━━━━━━━━━━━━━━━━━━━━\u001b[0m\u001b[37m\u001b[0m \u001b[1m1s\u001b[0m 8ms/step - accuracy: 0.0189 - loss: nan - val_accuracy: 0.0221 - val_loss: nan\n",
            "Epoch 10/10\n",
            "\u001b[1m74/74\u001b[0m \u001b[32m━━━━━━━━━━━━━━━━━━━━\u001b[0m\u001b[37m\u001b[0m \u001b[1m1s\u001b[0m 7ms/step - accuracy: 0.0138 - loss: nan - val_accuracy: 0.0221 - val_loss: nan\n"
          ]
        },
        {
          "output_type": "execute_result",
          "data": {
            "text/plain": [
              "<keras.src.callbacks.history.History at 0x7f77f0af8a90>"
            ]
          },
          "metadata": {},
          "execution_count": 58
        }
      ]
    },
    {
      "cell_type": "code",
      "source": [
        "# Evaluate Model\n",
        "loss, accuracy = model.evaluate(X_test, y_test)\n",
        "print(f\"Test Accuracy: {accuracy:.4f}\")"
      ],
      "metadata": {
        "colab": {
          "base_uri": "https://localhost:8080/"
        },
        "id": "BHJ0XPgeq4SJ",
        "outputId": "db56a689-8824-459a-868e-ca493ce2a0a1"
      },
      "execution_count": 59,
      "outputs": [
        {
          "output_type": "stream",
          "name": "stdout",
          "text": [
            "\u001b[1m19/19\u001b[0m \u001b[32m━━━━━━━━━━━━━━━━━━━━\u001b[0m\u001b[37m\u001b[0m \u001b[1m0s\u001b[0m 5ms/step - accuracy: 0.0175 - loss: nan\n",
            "Test Accuracy: 0.0221\n"
          ]
        }
      ]
    },
    {
      "cell_type": "code",
      "source": [
        "# Save Model\n",
        "model.save(\"rnn_model.h5\")"
      ],
      "metadata": {
        "colab": {
          "base_uri": "https://localhost:8080/"
        },
        "id": "p1SmAoXiq-oa",
        "outputId": "ca6ff6cb-0d39-4083-c8a4-2913e6e04c2c"
      },
      "execution_count": 60,
      "outputs": [
        {
          "output_type": "stream",
          "name": "stderr",
          "text": [
            "WARNING:absl:You are saving your model as an HDF5 file via `model.save()` or `keras.saving.save_model(model)`. This file format is considered legacy. We recommend using instead the native Keras format, e.g. `model.save('my_model.keras')` or `keras.saving.save_model(model, 'my_model.keras')`. \n"
          ]
        }
      ]
    },
    {
      "cell_type": "code",
      "source": [
        "# Load Model\n",
        "model = load_model(\"rnn_model.h5\")"
      ],
      "metadata": {
        "colab": {
          "base_uri": "https://localhost:8080/"
        },
        "id": "O8flV8r1rERD",
        "outputId": "8d54791d-7b80-438a-9cb6-b07e5b85ca42"
      },
      "execution_count": 61,
      "outputs": [
        {
          "output_type": "stream",
          "name": "stderr",
          "text": [
            "WARNING:absl:Compiled the loaded model, but the compiled metrics have yet to be built. `model.compile_metrics` will be empty until you train or evaluate the model.\n"
          ]
        }
      ]
    },
    {
      "cell_type": "code",
      "source": [
        "y_pred = model.predict(X_test)\n",
        "predicted_classes = label_encoder.inverse_transform(y_pred.argmax(axis=1))"
      ],
      "metadata": {
        "colab": {
          "base_uri": "https://localhost:8080/"
        },
        "id": "DtPu8QI1rHub",
        "outputId": "7f9429ca-6f4b-4deb-d941-8bde832e671f"
      },
      "execution_count": 62,
      "outputs": [
        {
          "output_type": "stream",
          "name": "stdout",
          "text": [
            "\u001b[1m19/19\u001b[0m \u001b[32m━━━━━━━━━━━━━━━━━━━━\u001b[0m\u001b[37m\u001b[0m \u001b[1m0s\u001b[0m 15ms/step\n"
          ]
        }
      ]
    },
    {
      "cell_type": "code",
      "source": [
        "# Display Predictions\n",
        "print(\"Predicted Classes:\", predicted_classes)"
      ],
      "metadata": {
        "colab": {
          "base_uri": "https://localhost:8080/"
        },
        "id": "kDpGHK2rrLLy",
        "outputId": "bbf92813-782e-4449-8dca-198dff6beb55"
      },
      "execution_count": 63,
      "outputs": [
        {
          "output_type": "stream",
          "name": "stdout",
          "text": [
            "Predicted Classes: ['ADHD' 'ADHD' 'ADHD' 'ADHD' 'ADHD' 'ADHD' 'ADHD' 'ADHD' 'ADHD' 'ADHD'\n",
            " 'ADHD' 'ADHD' 'ADHD' 'ADHD' 'ADHD' 'ADHD' 'ADHD' 'ADHD' 'ADHD' 'ADHD'\n",
            " 'ADHD' 'ADHD' 'ADHD' 'ADHD' 'ADHD' 'ADHD' 'ADHD' 'ADHD' 'ADHD' 'ADHD'\n",
            " 'ADHD' 'ADHD' 'ADHD' 'ADHD' 'ADHD' 'ADHD' 'ADHD' 'ADHD' 'ADHD' 'ADHD'\n",
            " 'ADHD' 'ADHD' 'ADHD' 'ADHD' 'ADHD' 'ADHD' 'ADHD' 'ADHD' 'ADHD' 'ADHD'\n",
            " 'ADHD' 'ADHD' 'ADHD' 'ADHD' 'ADHD' 'ADHD' 'ADHD' 'ADHD' 'ADHD' 'ADHD'\n",
            " 'ADHD' 'ADHD' 'ADHD' 'ADHD' 'ADHD' 'ADHD' 'ADHD' 'ADHD' 'ADHD' 'ADHD'\n",
            " 'ADHD' 'ADHD' 'ADHD' 'ADHD' 'ADHD' 'ADHD' 'ADHD' 'ADHD' 'ADHD' 'ADHD'\n",
            " 'ADHD' 'ADHD' 'ADHD' 'ADHD' 'ADHD' 'ADHD' 'ADHD' 'ADHD' 'ADHD' 'ADHD'\n",
            " 'ADHD' 'ADHD' 'ADHD' 'ADHD' 'ADHD' 'ADHD' 'ADHD' 'ADHD' 'ADHD' 'ADHD'\n",
            " 'ADHD' 'ADHD' 'ADHD' 'ADHD' 'ADHD' 'ADHD' 'ADHD' 'ADHD' 'ADHD' 'ADHD'\n",
            " 'ADHD' 'ADHD' 'ADHD' 'ADHD' 'ADHD' 'ADHD' 'ADHD' 'ADHD' 'ADHD' 'ADHD'\n",
            " 'ADHD' 'ADHD' 'ADHD' 'ADHD' 'ADHD' 'ADHD' 'ADHD' 'ADHD' 'ADHD' 'ADHD'\n",
            " 'ADHD' 'ADHD' 'ADHD' 'ADHD' 'ADHD' 'ADHD' 'ADHD' 'ADHD' 'ADHD' 'ADHD'\n",
            " 'ADHD' 'ADHD' 'ADHD' 'ADHD' 'ADHD' 'ADHD' 'ADHD' 'ADHD' 'ADHD' 'ADHD'\n",
            " 'ADHD' 'ADHD' 'ADHD' 'ADHD' 'ADHD' 'ADHD' 'ADHD' 'ADHD' 'ADHD' 'ADHD'\n",
            " 'ADHD' 'ADHD' 'ADHD' 'ADHD' 'ADHD' 'ADHD' 'ADHD' 'ADHD' 'ADHD' 'ADHD'\n",
            " 'ADHD' 'ADHD' 'ADHD' 'ADHD' 'ADHD' 'ADHD' 'ADHD' 'ADHD' 'ADHD' 'ADHD'\n",
            " 'ADHD' 'ADHD' 'ADHD' 'ADHD' 'ADHD' 'ADHD' 'ADHD' 'ADHD' 'ADHD' 'ADHD'\n",
            " 'ADHD' 'ADHD' 'ADHD' 'ADHD' 'ADHD' 'ADHD' 'ADHD' 'ADHD' 'ADHD' 'ADHD'\n",
            " 'ADHD' 'ADHD' 'ADHD' 'ADHD' 'ADHD' 'ADHD' 'ADHD' 'ADHD' 'ADHD' 'ADHD'\n",
            " 'ADHD' 'ADHD' 'ADHD' 'ADHD' 'ADHD' 'ADHD' 'ADHD' 'ADHD' 'ADHD' 'ADHD'\n",
            " 'ADHD' 'ADHD' 'ADHD' 'ADHD' 'ADHD' 'ADHD' 'ADHD' 'ADHD' 'ADHD' 'ADHD'\n",
            " 'ADHD' 'ADHD' 'ADHD' 'ADHD' 'ADHD' 'ADHD' 'ADHD' 'ADHD' 'ADHD' 'ADHD'\n",
            " 'ADHD' 'ADHD' 'ADHD' 'ADHD' 'ADHD' 'ADHD' 'ADHD' 'ADHD' 'ADHD' 'ADHD'\n",
            " 'ADHD' 'ADHD' 'ADHD' 'ADHD' 'ADHD' 'ADHD' 'ADHD' 'ADHD' 'ADHD' 'ADHD'\n",
            " 'ADHD' 'ADHD' 'ADHD' 'ADHD' 'ADHD' 'ADHD' 'ADHD' 'ADHD' 'ADHD' 'ADHD'\n",
            " 'ADHD' 'ADHD' 'ADHD' 'ADHD' 'ADHD' 'ADHD' 'ADHD' 'ADHD' 'ADHD' 'ADHD'\n",
            " 'ADHD' 'ADHD' 'ADHD' 'ADHD' 'ADHD' 'ADHD' 'ADHD' 'ADHD' 'ADHD' 'ADHD'\n",
            " 'ADHD' 'ADHD' 'ADHD' 'ADHD' 'ADHD' 'ADHD' 'ADHD' 'ADHD' 'ADHD' 'ADHD'\n",
            " 'ADHD' 'ADHD' 'ADHD' 'ADHD' 'ADHD' 'ADHD' 'ADHD' 'ADHD' 'ADHD' 'ADHD'\n",
            " 'ADHD' 'ADHD' 'ADHD' 'ADHD' 'ADHD' 'ADHD' 'ADHD' 'ADHD' 'ADHD' 'ADHD'\n",
            " 'ADHD' 'ADHD' 'ADHD' 'ADHD' 'ADHD' 'ADHD' 'ADHD' 'ADHD' 'ADHD' 'ADHD'\n",
            " 'ADHD' 'ADHD' 'ADHD' 'ADHD' 'ADHD' 'ADHD' 'ADHD' 'ADHD' 'ADHD' 'ADHD'\n",
            " 'ADHD' 'ADHD' 'ADHD' 'ADHD' 'ADHD' 'ADHD' 'ADHD' 'ADHD' 'ADHD' 'ADHD'\n",
            " 'ADHD' 'ADHD' 'ADHD' 'ADHD' 'ADHD' 'ADHD' 'ADHD' 'ADHD' 'ADHD' 'ADHD'\n",
            " 'ADHD' 'ADHD' 'ADHD' 'ADHD' 'ADHD' 'ADHD' 'ADHD' 'ADHD' 'ADHD' 'ADHD'\n",
            " 'ADHD' 'ADHD' 'ADHD' 'ADHD' 'ADHD' 'ADHD' 'ADHD' 'ADHD' 'ADHD' 'ADHD'\n",
            " 'ADHD' 'ADHD' 'ADHD' 'ADHD' 'ADHD' 'ADHD' 'ADHD' 'ADHD' 'ADHD' 'ADHD'\n",
            " 'ADHD' 'ADHD' 'ADHD' 'ADHD' 'ADHD' 'ADHD' 'ADHD' 'ADHD' 'ADHD' 'ADHD'\n",
            " 'ADHD' 'ADHD' 'ADHD' 'ADHD' 'ADHD' 'ADHD' 'ADHD' 'ADHD' 'ADHD' 'ADHD'\n",
            " 'ADHD' 'ADHD' 'ADHD' 'ADHD' 'ADHD' 'ADHD' 'ADHD' 'ADHD' 'ADHD' 'ADHD'\n",
            " 'ADHD' 'ADHD' 'ADHD' 'ADHD' 'ADHD' 'ADHD' 'ADHD' 'ADHD' 'ADHD' 'ADHD'\n",
            " 'ADHD' 'ADHD' 'ADHD' 'ADHD' 'ADHD' 'ADHD' 'ADHD' 'ADHD' 'ADHD' 'ADHD'\n",
            " 'ADHD' 'ADHD' 'ADHD' 'ADHD' 'ADHD' 'ADHD' 'ADHD' 'ADHD' 'ADHD' 'ADHD'\n",
            " 'ADHD' 'ADHD' 'ADHD' 'ADHD' 'ADHD' 'ADHD' 'ADHD' 'ADHD' 'ADHD' 'ADHD'\n",
            " 'ADHD' 'ADHD' 'ADHD' 'ADHD' 'ADHD' 'ADHD' 'ADHD' 'ADHD' 'ADHD' 'ADHD'\n",
            " 'ADHD' 'ADHD' 'ADHD' 'ADHD' 'ADHD' 'ADHD' 'ADHD' 'ADHD' 'ADHD' 'ADHD'\n",
            " 'ADHD' 'ADHD' 'ADHD' 'ADHD' 'ADHD' 'ADHD' 'ADHD' 'ADHD' 'ADHD' 'ADHD'\n",
            " 'ADHD' 'ADHD' 'ADHD' 'ADHD' 'ADHD' 'ADHD' 'ADHD' 'ADHD' 'ADHD' 'ADHD'\n",
            " 'ADHD' 'ADHD' 'ADHD' 'ADHD' 'ADHD' 'ADHD' 'ADHD' 'ADHD' 'ADHD' 'ADHD'\n",
            " 'ADHD' 'ADHD' 'ADHD' 'ADHD' 'ADHD' 'ADHD' 'ADHD' 'ADHD' 'ADHD' 'ADHD'\n",
            " 'ADHD' 'ADHD' 'ADHD' 'ADHD' 'ADHD' 'ADHD' 'ADHD' 'ADHD' 'ADHD' 'ADHD'\n",
            " 'ADHD' 'ADHD' 'ADHD' 'ADHD' 'ADHD' 'ADHD' 'ADHD' 'ADHD' 'ADHD' 'ADHD'\n",
            " 'ADHD' 'ADHD' 'ADHD' 'ADHD' 'ADHD' 'ADHD' 'ADHD' 'ADHD' 'ADHD' 'ADHD'\n",
            " 'ADHD' 'ADHD' 'ADHD' 'ADHD' 'ADHD' 'ADHD' 'ADHD' 'ADHD' 'ADHD' 'ADHD'\n",
            " 'ADHD' 'ADHD' 'ADHD' 'ADHD' 'ADHD' 'ADHD' 'ADHD' 'ADHD' 'ADHD' 'ADHD'\n",
            " 'ADHD' 'ADHD' 'ADHD' 'ADHD' 'ADHD' 'ADHD' 'ADHD' 'ADHD' 'ADHD' 'ADHD'\n",
            " 'ADHD' 'ADHD' 'ADHD' 'ADHD' 'ADHD' 'ADHD' 'ADHD']\n"
          ]
        }
      ]
    }
  ]
}